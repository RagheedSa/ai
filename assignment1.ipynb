{
 "cells": [
  {
   "cell_type": "markdown",
   "id": "7b9271ee-4f93-4f2e-ac88-22c9c42c1cb8",
   "metadata": {},
   "source": [
    "## Neural Network Classification\n",
    "\n",
    "*Ragheed Samkari, 24 December, 2024* "
   ]
  },
  {
   "cell_type": "markdown",
   "id": "14a21398-0798-41d6-a55c-6b9e1c5b519c",
   "metadata": {},
   "source": [
    "**1. Read and split data:**"
   ]
  },
  {
   "cell_type": "code",
   "execution_count": 2,
   "id": "d48e4cb8-2abe-4c1f-9fbc-7c580f02acc5",
   "metadata": {},
   "outputs": [
    {
     "name": "stdout",
     "output_type": "stream",
     "text": [
      "2.5.1\n"
     ]
    }
   ],
   "source": [
    "import torch\n",
    "from torch import nn\n",
    "import matplotlib.pyplot as plt\n",
    "import torch\n",
    "import sklearn as skl\n",
    "import pandas as pd\n",
    "import numpy as np\n",
    "print(torch.__version__)"
   ]
  },
  {
   "cell_type": "code",
   "execution_count": 3,
   "id": "ed6e6edf-8c93-4de3-baea-1bbdce5367a2",
   "metadata": {},
   "outputs": [
    {
     "name": "stdout",
     "output_type": "stream",
     "text": [
      "(1797, 64)\n"
     ]
    }
   ],
   "source": [
    "from sklearn.model_selection import train_test_split\n",
    "from sklearn.datasets import load_digits\n",
    "import torch\n",
    "from torch.utils.data import TensorDataset, DataLoader\n",
    "\n",
    "#Read digits data from sklearn.datasets\n",
    "digits = load_digits()\n",
    "X = digits.data\n",
    "y = digits.target\n",
    "print(digits.data.shape)\n",
    "\n",
    "#Split into train and test\n",
    "X_train, X_test, y_train, y_test = train_test_split(X, y, test_size=0.2, random_state=42)\n",
    "\n",
    "# Further split train into train and validation\n",
    "X_train, X_val, y_train, y_val = train_test_split(X_train, y_train, test_size=0.25, random_state=42)\n",
    "\n",
    "# Convert to tensors\n",
    "X_train_tensor = torch.tensor(X_train, dtype=torch.float32)\n",
    "y_train_tensor = torch.tensor(y_train, dtype=torch.long)\n",
    "X_val_tensor = torch.tensor(X_val, dtype=torch.float32)\n",
    "y_val_tensor = torch.tensor(y_val, dtype=torch.long)\n",
    "X_test_tensor = torch.tensor(X_test, dtype=torch.float32)\n",
    "y_test_tensor = torch.tensor(y_test, dtype=torch.long)\n"
   ]
  },
  {
   "cell_type": "markdown",
   "id": "7be68f1f-7424-4edf-9b53-43872e4e66fb",
   "metadata": {},
   "source": [
    "**2. Create Classes:**"
   ]
  },
  {
   "cell_type": "code",
   "execution_count": 4,
   "id": "201d3b31-6c27-4bd6-9a71-059c33b6394a",
   "metadata": {},
   "outputs": [],
   "source": [
    "# Create a custom data class\n",
    "class DigitsDataset(torch.utils.data.Dataset):\n",
    "    def __init__(self, X, y):\n",
    "        self.X = X\n",
    "        self.y = y\n",
    "\n",
    "    def __len__(self):\n",
    "        return len(self.X)\n",
    "\n",
    "    def __getitem__(self, idx):\n",
    "        return self.X[idx], self.y[idx]"
   ]
  },
  {
   "cell_type": "code",
   "execution_count": 5,
   "id": "820a91b1-5c33-4e4a-b12d-52b32a27673d",
   "metadata": {},
   "outputs": [],
   "source": [
    "# Create a NN classification model\n",
    "class DigitsNN(nn.Module):\n",
    "    def __init__(self, input_size, hidden_size1, hidden_size2, num_classes):\n",
    "        super(DigitsNN, self).__init__()\n",
    "        # More than one hidden layer\n",
    "        self.layer1 = nn.Linear(input_size, hidden_size1)\n",
    "        self.layer2 = nn.Linear(hidden_size1, hidden_size2)\n",
    "        self.output = nn.Linear(hidden_size2, num_classes)\n",
    "\n",
    "    def forward(self, x):\n",
    "        x = torch.sigmoid(self.layer1(x))\n",
    "        x = torch.sigmoid(self.layer2(x))\n",
    "        x = self.output(x) \n",
    "        return x"
   ]
  },
  {
   "cell_type": "markdown",
   "id": "9e007dc2-e8db-4dea-bf50-4dcdd9b5cfbd",
   "metadata": {},
   "source": [
    "**Explain how nn.linear works:**\n",
    "\n",
    "nn.Linear(in_features, out_features): Creates a fully connected layer.\n",
    "\n",
    "It applies a linear transformation: output = input * W^T + b.\n",
    "\n",
    "in_features: The number of input features (size of the input vector).\n",
    "\n",
    "out_features: The number of output features (size of the output vector).\n"
   ]
  },
  {
   "cell_type": "code",
   "execution_count": 6,
   "id": "134ae59b-7b07-481a-a7d1-cc167dc0690d",
   "metadata": {},
   "outputs": [],
   "source": [
    "# Loss function for classification (CrossEntropyLoss)\n",
    "model = DigitsNN(input_size=64, hidden_size1=128, hidden_size2=64, num_classes=10)\n",
    "criterion = nn.CrossEntropyLoss()\n",
    "optimizer = torch.optim.Adam(model.parameters(), lr=0.001)"
   ]
  },
  {
   "cell_type": "markdown",
   "id": "9053e113-f9d9-4fbf-8824-a1e1a9fdd05a",
   "metadata": {},
   "source": [
    "**3. Train and test the model:**"
   ]
  },
  {
   "cell_type": "code",
   "execution_count": 7,
   "id": "c098fb2d-b248-450d-96a3-3002ad13375b",
   "metadata": {},
   "outputs": [
    {
     "name": "stdout",
     "output_type": "stream",
     "text": [
      "Epoch 1, Train Loss: 2.2438, Val Loss: 2.1299\n",
      "Epoch 2, Train Loss: 1.9939, Val Loss: 1.8603\n",
      "Epoch 3, Train Loss: 1.6718, Val Loss: 1.5265\n",
      "Epoch 4, Train Loss: 1.3315, Val Loss: 1.2076\n",
      "Epoch 5, Train Loss: 1.0309, Val Loss: 0.9431\n",
      "Epoch 6, Train Loss: 0.7957, Val Loss: 0.7405\n",
      "Epoch 7, Train Loss: 0.6171, Val Loss: 0.5907\n",
      "Epoch 8, Train Loss: 0.4883, Val Loss: 0.4869\n",
      "Epoch 9, Train Loss: 0.3970, Val Loss: 0.4085\n",
      "Epoch 10, Train Loss: 0.3276, Val Loss: 0.3374\n"
     ]
    }
   ],
   "source": [
    "# Plot the training and validation losses\n",
    "train_loader = DataLoader(DigitsDataset(X_train_tensor, y_train_tensor), batch_size=32, shuffle=True)\n",
    "val_loader = DataLoader(DigitsDataset(X_val_tensor, y_val_tensor), batch_size=32, shuffle=False)\n",
    "\n",
    "train_losses = []\n",
    "val_losses = []\n",
    "\n",
    "for epoch in range(10): \n",
    "    model.train()\n",
    "    epoch_train_loss = 0\n",
    "    for X_batch, y_batch in train_loader:\n",
    "        optimizer.zero_grad()\n",
    "        outputs = model(X_batch)\n",
    "        loss = criterion(outputs, y_batch)\n",
    "        loss.backward()\n",
    "        optimizer.step()\n",
    "        epoch_train_loss += loss.item()\n",
    "\n",
    "    train_losses.append(epoch_train_loss / len(train_loader))\n",
    "\n",
    "    # Validation Loss\n",
    "    model.eval()\n",
    "    epoch_val_loss = 0\n",
    "    with torch.no_grad():\n",
    "        for X_batch, y_batch in val_loader:\n",
    "            outputs = model(X_batch)\n",
    "            loss = criterion(outputs, y_batch)\n",
    "            epoch_val_loss += loss.item()\n",
    "    val_losses.append(epoch_val_loss / len(val_loader))\n",
    "\n",
    "    print(f\"Epoch {epoch+1}, Train Loss: {train_losses[-1]:.4f}, Val Loss: {val_losses[-1]:.4f}\")\n"
   ]
  },
  {
   "cell_type": "code",
   "execution_count": 8,
   "id": "96fb59af-2083-4a84-aa26-57cec7633562",
   "metadata": {},
   "outputs": [
    {
     "data": {
      "image/png": "[encoded data removed]",
      "text/plain": [
       "<Figure size 640x480 with 1 Axes>"
      ]
     },
     "metadata": {},
     "output_type": "display_data"
    }
   ],
   "source": [
    "plt.plot(train_losses, label='Training Loss')\n",
    "plt.plot(val_losses, label='Validation Loss')\n",
    "plt.legend()\n",
    "plt.xlabel('Epochs')\n",
    "plt.ylabel('Loss')\n",
    "plt.title('Training and Validation Losses')\n",
    "plt.show()\n"
   ]
  },
  {
   "cell_type": "markdown",
   "id": "18303812-7bca-488a-96bd-be3481197adb",
   "metadata": {},
   "source": [
    "Training Loss Behavior:\n",
    "The training loss decreases steadily over the epochs, starting at 2.2165 and dropping to 0.3247 by epoch 10. This consistent decrease indicates that the model is learning effectively and fitting the training data.\n",
    "\n",
    "Validation Loss Behavior:\n",
    "The validation loss also decreases throughout the epochs, starting at 2.0884 and reaching 0.3523 by epoch 10. This suggests that the model is generalizing well to unseen data, as there is no sign of overfitting"
   ]
  },
  {
   "cell_type": "markdown",
   "id": "8965881e-7fe6-4c46-a30b-41e4dd9ca762",
   "metadata": {},
   "source": [
    "**4. Report all possible metrics from the confusion matrix** "
   ]
  },
  {
   "cell_type": "code",
   "execution_count": 10,
   "id": "a9edf8ea-9962-42e6-9172-ba83868d13c8",
   "metadata": {},
   "outputs": [
    {
     "ename": "NameError",
     "evalue": "name 'test_loader' is not defined",
     "output_type": "error",
     "traceback": [
      "\u001b[0;31m---------------------------------------------------------------------------\u001b[0m",
      "\u001b[0;31mNameError\u001b[0m                                 Traceback (most recent call last)",
      "Cell \u001b[0;32mIn[10], line 10\u001b[0m\n\u001b[1;32m      7\u001b[0m all_targets \u001b[38;5;241m=\u001b[39m []\n\u001b[1;32m      9\u001b[0m \u001b[38;5;28;01mwith\u001b[39;00m torch\u001b[38;5;241m.\u001b[39mno_grad():\n\u001b[0;32m---> 10\u001b[0m     \u001b[38;5;28;01mfor\u001b[39;00m X_batch, y_batch \u001b[38;5;129;01min\u001b[39;00m \u001b[43mtest_loader\u001b[49m:\n\u001b[1;32m     11\u001b[0m         outputs \u001b[38;5;241m=\u001b[39m model(X_batch)\n\u001b[1;32m     12\u001b[0m         _, preds \u001b[38;5;241m=\u001b[39m torch\u001b[38;5;241m.\u001b[39mmax(outputs, \u001b[38;5;241m1\u001b[39m)\n",
      "\u001b[0;31mNameError\u001b[0m: name 'test_loader' is not defined"
     ]
    }
   ],
   "source": [
    "import matplotlib.pyplot as plt\n",
    "from sklearn.metrics import confusion_matrix, classification_report, accuracy_score\n",
    "\n",
    "model.eval()\n",
    "\n",
    "all_preds = []\n",
    "all_targets = []\n",
    "\n",
    "with torch.no_grad():\n",
    "    for X_batch, y_batch in test_loader:\n",
    "        outputs = model(X_batch)\n",
    "        _, preds = torch.max(outputs, 1)\n",
    "        all_preds.extend(preds.numpy())\n",
    "        all_targets.extend(y_batch.numpy())\n",
    "\n",
    "# Compute Confusion Matrix\n",
    "cm = confusion_matrix(all_targets, all_preds)\n",
    "\n",
    "plt.matshow(cm, cmap='Blues') \n",
    "plt.title('Confusion Matrix')\n",
    "plt.colorbar()\n",
    "plt.xlabel('Predicted')\n",
    "plt.ylabel('True')\n",
    "\n",
    "plt.show()\n",
    "\n",
    "# Print Metrics\n",
    "print(\"Classification Report:\\n\", classification_report(all_targets, all_preds))\n",
    "print(\"Overall Accuracy:\", accuracy_score(all_targets, all_preds))\n"
   ]
  },
  {
   "cell_type": "markdown",
   "id": "08dc4be0-026f-4d7f-843a-4a8f855c7657",
   "metadata": {},
   "source": [
    "**Discuss the results**"
   ]
  },
  {
   "cell_type": "markdown",
   "id": "4053bf9f-a643-4e6a-85e9-d504e176f071",
   "metadata": {},
   "source": [
    "The model achieves good performance with an overall accuracy of 96.94%. Most classes have near-perfect metrics, even class 8 shows slightly lower precision (0.90) and recall (0.93). but the balanced macro and weighted averages give us a strong generalization and effective training."
   ]
  },
  {
   "cell_type": "code",
   "execution_count": null,
   "id": "21ded377-48be-4b65-9f43-c79520914bc2",
   "metadata": {},
   "outputs": [],
   "source": []
  },
  {
   "cell_type": "code",
   "execution_count": null,
   "id": "d5fb0b66-2c62-49b0-9975-7698dbe8f2d2",
   "metadata": {},
   "outputs": [],
   "source": []
  }
 ],
 "metadata": {
  "kernelspec": {
   "display_name": "Python 3 (ipykernel)",
   "language": "python",
   "name": "python3"
  },
  "language_info": {
   "codemirror_mode": {
    "name": "ipython",
    "version": 3
   },
   "file_extension": ".py",
   "mimetype": "text/x-python",
   "name": "python",
   "nbconvert_exporter": "python",
   "pygments_lexer": "ipython3",
   "version": "3.9.21"
  }
 },
 "nbformat": 4,
 "nbformat_minor": 5
}
