{
 "cells": [
  {
   "cell_type": "markdown",
   "id": "d8aaa030-f11c-4401-8528-1a2fda0a9796",
   "metadata": {
    "id": "d8aaa030-f11c-4401-8528-1a2fda0a9796"
   },
   "source": [
    "## Convolutional Neural Networks\n",
    "\n",
    "*Ragheed Samkari, 18 January, 2025*"
   ]
  },
  {
   "cell_type": "markdown",
   "id": "f4de7724-db3c-4fd7-b269-b07d37004c2b",
   "metadata": {
    "id": "f4de7724-db3c-4fd7-b269-b07d37004c2b"
   },
   "source": [
    "Requirment 1:"
   ]
  },
  {
   "cell_type": "markdown",
   "id": "de4b9ffc-8953-4d7c-905c-e1a10edbc1ae",
   "metadata": {
    "id": "de4b9ffc-8953-4d7c-905c-e1a10edbc1ae"
   },
   "source": [
    "1. Load and Normalize the data"
   ]
  },
  {
   "cell_type": "code",
   "execution_count": 1,
   "id": "36416fb1-dc56-4ae1-95ef-2bd7a4e7448f",
   "metadata": {
    "colab": {
     "base_uri": "https://localhost:8080/",
     "height": 461
    },
    "id": "36416fb1-dc56-4ae1-95ef-2bd7a4e7448f",
    "outputId": "43ef9c86-bf14-487f-a499-236d9bd41666"
   },
   "outputs": [
    {
     "name": "stdout",
     "output_type": "stream",
     "text": [
      "Train set: torch.Size([50000, 1, 28, 28]), torch.Size([50000])\n",
      "Valid set: torch.Size([10000, 1, 28, 28]), torch.Size([10000])\n",
      "Test set: torch.Size([10000, 1, 28, 28]), torch.Size([10000])\n"
     ]
    },
    {
     "data": {
      "image/png": "[encoded data removed]",
      "text/plain": [
       "<Figure size 640x480 with 9 Axes>"
      ]
     },
     "metadata": {},
     "output_type": "display_data"
    }
   ],
   "source": [
    "import torch\n",
    "from torch import nn\n",
    "from torch.utils.data import DataLoader, TensorDataset\n",
    "import numpy as np\n",
    "import matplotlib.pyplot as plt\n",
    "import pickle\n",
    "import gzip\n",
    "\n",
    "\n",
    "with gzip.open('mnist.pkl.gz', 'rb') as f:\n",
    "    train_set, valid_set, test_set = pickle.load(f, encoding='latin1')\n",
    "\n",
    "\n",
    "X_train = train_set[0]\n",
    "X_valid = valid_set[0]\n",
    "X_test = test_set[0]\n",
    "\n",
    "\n",
    "y_train = train_set[1]\n",
    "y_valid = valid_set[1]\n",
    "y_test = test_set[1]\n",
    "\n",
    "\n",
    "X_train_tensor = torch.tensor(X_train / 255.0, dtype=torch.float32).view(-1, 1, 28, 28)\n",
    "y_train_tensor = torch.tensor(y_train, dtype=torch.long)\n",
    "\n",
    "X_valid_tensor = torch.tensor(X_valid / 255.0, dtype=torch.float32).view(-1, 1, 28, 28)\n",
    "y_valid_tensor = torch.tensor(y_valid, dtype=torch.long)\n",
    "\n",
    "X_test_tensor = torch.tensor(X_test / 255.0, dtype=torch.float32).view(-1, 1, 28, 28)\n",
    "y_test_tensor = torch.tensor(y_test, dtype=torch.long)\n",
    "\n",
    "# Data loaders\n",
    "train_loader = DataLoader(TensorDataset(X_train_tensor, y_train_tensor), batch_size=64, shuffle=True)\n",
    "valid_loader = DataLoader(TensorDataset(X_valid_tensor, y_valid_tensor), batch_size=64, shuffle=False)\n",
    "test_loader = DataLoader(TensorDataset(X_test_tensor, y_test_tensor), batch_size=64, shuffle=False)\n",
    "\n",
    "# Print shapes to verify\n",
    "print(f\"Train set: {X_train_tensor.shape}, {y_train_tensor.shape}\")\n",
    "print(f\"Valid set: {X_valid_tensor.shape}, {y_valid_tensor.shape}\")\n",
    "print(f\"Test set: {X_test_tensor.shape}, {y_test_tensor.shape}\")\n",
    "\n",
    "# Visualize a few training examples\n",
    "for i in range(9):\n",
    "    plt.subplot(330 + 1 + i)\n",
    "    plt.imshow(X_train_tensor[i, 0].numpy(), cmap='gray')\n",
    "    plt.axis('off')\n",
    "plt.show()"
   ]
  },
  {
   "cell_type": "markdown",
   "id": "cfc0880f-3827-4244-8bb8-f42a431b8651",
   "metadata": {
    "id": "cfc0880f-3827-4244-8bb8-f42a431b8651"
   },
   "source": [
    "2. Convert Data to PyTorch DataLoaders\n"
   ]
  },
  {
   "cell_type": "code",
   "execution_count": 2,
   "id": "2fb4726c-7427-473c-8afc-33e8c9ee139c",
   "metadata": {
    "id": "2fb4726c-7427-473c-8afc-33e8c9ee139c"
   },
   "outputs": [],
   "source": [
    "from torch.utils.data import DataLoader, TensorDataset\n",
    "\n",
    "X_train_tensor = torch.tensor(X_train, dtype=torch.float32).view(-1, 1, 28, 28)\n",
    "y_train_tensor = torch.tensor(y_train, dtype=torch.long)\n",
    "\n",
    "X_test_tensor = torch.tensor(X_test, dtype=torch.float32).view(-1, 1, 28, 28)\n",
    "y_test_tensor = torch.tensor(y_test, dtype=torch.long)\n",
    "\n",
    "train_loader = DataLoader(TensorDataset(X_train_tensor, y_train_tensor), batch_size=64, shuffle=True)\n",
    "test_loader = DataLoader(TensorDataset(X_test_tensor, y_test_tensor), batch_size=64, shuffle=False)\n"
   ]
  },
  {
   "cell_type": "markdown",
   "id": "efbab819-b786-46dc-9276-80fb3357a6e7",
   "metadata": {
    "id": "efbab819-b786-46dc-9276-80fb3357a6e7"
   },
   "source": [
    "3. Define the Convolutional Neural Network (CNN)"
   ]
  },
  {
   "cell_type": "code",
   "execution_count": 3,
   "id": "e595d209-8b93-4b0d-8370-315792b61dd0",
   "metadata": {
    "id": "e595d209-8b93-4b0d-8370-315792b61dd0"
   },
   "outputs": [],
   "source": [
    "class CNN(nn.Module):\n",
    "    def __init__(self):\n",
    "        super(CNN, self).__init__()\n",
    "        self.conv1 = nn.Conv2d(1, 16, kernel_size=3, padding=1)\n",
    "        self.conv2 = nn.Conv2d(16, 32, kernel_size=3, padding=1)\n",
    "        self.conv3 = nn.Conv2d(32, 64, kernel_size=3, padding=1)\n",
    "        self.fc1 = nn.Linear(64 * 3 * 3, 128)\n",
    "        self.fc2 = nn.Linear(128, 64)\n",
    "        self.fc3 = nn.Linear(64, 10)\n",
    "\n",
    "    def forward(self, x):\n",
    "        x = nn.ReLU()(self.conv1(x))\n",
    "        x = nn.MaxPool2d(2, 2)(x)\n",
    "        x = nn.ReLU()(self.conv2(x))\n",
    "        x = nn.MaxPool2d(2, 2)(x)\n",
    "        x = nn.ReLU()(self.conv3(x))\n",
    "        x = nn.MaxPool2d(2, 2)(x)\n",
    "        x = x.view(x.size(0), -1)\n",
    "        x = nn.ReLU()(self.fc1(x))\n",
    "        x = nn.ReLU()(self.fc2(x))\n",
    "        x = self.fc3(x)\n",
    "        return x\n",
    "\n",
    "model = CNN()\n"
   ]
  },
  {
   "cell_type": "markdown",
   "id": "c8c05225-1575-4226-95d2-0ee60c27904c",
   "metadata": {
    "id": "c8c05225-1575-4226-95d2-0ee60c27904c"
   },
   "source": [
    "4. Model Summary\n"
   ]
  },
  {
   "cell_type": "code",
   "execution_count": 4,
   "id": "73acQZ8wE6IY",
   "metadata": {
    "colab": {
     "base_uri": "https://localhost:8080/"
    },
    "id": "73acQZ8wE6IY",
    "outputId": "f9077943-661a-44d7-882a-f1eb235f5324"
   },
   "outputs": [
    {
     "name": "stdout",
     "output_type": "stream",
     "text": [
      "Requirement already satisfied: torchinfo in /Users/ragheedsamkari/miniconda3/envs/env_pytorch/lib/python3.9/site-packages (1.8.0)\n",
      "Note: you may need to restart the kernel to use updated packages.\n"
     ]
    }
   ],
   "source": [
    "pip install torchinfo"
   ]
  },
  {
   "cell_type": "code",
   "execution_count": 5,
   "id": "c8e42dce-7397-4978-b1e9-2ac2213c87c2",
   "metadata": {
    "colab": {
     "base_uri": "https://localhost:8080/"
    },
    "id": "c8e42dce-7397-4978-b1e9-2ac2213c87c2",
    "outputId": "513fc951-1060-4085-94df-4b71a87d7793"
   },
   "outputs": [
    {
     "data": {
      "text/plain": [
       "==========================================================================================\n",
       "Layer (type:depth-idx)                   Output Shape              Param #\n",
       "==========================================================================================\n",
       "CNN                                      [64, 10]                  --\n",
       "├─Conv2d: 1-1                            [64, 16, 28, 28]          160\n",
       "├─Conv2d: 1-2                            [64, 32, 14, 14]          4,640\n",
       "├─Conv2d: 1-3                            [64, 64, 7, 7]            18,496\n",
       "├─Linear: 1-4                            [64, 128]                 73,856\n",
       "├─Linear: 1-5                            [64, 64]                  8,256\n",
       "├─Linear: 1-6                            [64, 10]                  650\n",
       "==========================================================================================\n",
       "Total params: 106,058\n",
       "Trainable params: 106,058\n",
       "Non-trainable params: 0\n",
       "Total mult-adds (M): 129.53\n",
       "==========================================================================================\n",
       "Input size (MB): 0.20\n",
       "Forward/backward pass size (MB): 11.34\n",
       "Params size (MB): 0.42\n",
       "Estimated Total Size (MB): 11.97\n",
       "=========================================================================================="
      ]
     },
     "execution_count": 5,
     "metadata": {},
     "output_type": "execute_result"
    }
   ],
   "source": [
    "from torchinfo import summary\n",
    "\n",
    "summary(model, input_size=(64, 1, 28, 28))\n"
   ]
  },
  {
   "cell_type": "markdown",
   "id": "e18c586f-eaf9-4b8f-bd50-ac4348c26536",
   "metadata": {
    "id": "e18c586f-eaf9-4b8f-bd50-ac4348c26536"
   },
   "source": [
    "5. Train the Model"
   ]
  },
  {
   "cell_type": "code",
   "execution_count": 6,
   "id": "bfff4c9d-1f60-401d-a7a1-04a8c6a375b1",
   "metadata": {
    "colab": {
     "base_uri": "https://localhost:8080/"
    },
    "id": "bfff4c9d-1f60-401d-a7a1-04a8c6a375b1",
    "outputId": "eeff5d78-c835-4546-dfb5-04b2585a0264"
   },
   "outputs": [
    {
     "name": "stdout",
     "output_type": "stream",
     "text": [
      "Epoch 1/10, Loss: 0.3379518252957012\n",
      "Epoch 2/10, Loss: 0.08800339661574329\n",
      "Epoch 3/10, Loss: 0.060327510425822135\n",
      "Epoch 4/10, Loss: 0.046179734873097115\n",
      "Epoch 5/10, Loss: 0.03914124216831377\n",
      "Epoch 6/10, Loss: 0.03173566026083665\n",
      "Epoch 7/10, Loss: 0.025594876053516933\n",
      "Epoch 8/10, Loss: 0.023032373194425703\n",
      "Epoch 9/10, Loss: 0.021250352494599514\n",
      "Epoch 10/10, Loss: 0.016673997189033386\n"
     ]
    }
   ],
   "source": [
    "loss_fn = nn.CrossEntropyLoss()\n",
    "optimizer = torch.optim.Adam(model.parameters(), lr=0.001)\n",
    "\n",
    "epochs = 10\n",
    "for epoch in range(epochs):\n",
    "    model.train()\n",
    "    running_loss = 0.0\n",
    "    for images, labels in train_loader:\n",
    "        optimizer.zero_grad()\n",
    "        outputs = model(images)\n",
    "        loss = loss_fn(outputs, labels)\n",
    "        loss.backward()\n",
    "        optimizer.step()\n",
    "        running_loss += loss.item()\n",
    "    print(f\"Epoch {epoch+1}/{epochs}, Loss: {running_loss/len(train_loader)}\")"
   ]
  },
  {
   "cell_type": "code",
   "execution_count": 7,
   "id": "qAhYq_xWHwJm",
   "metadata": {
    "colab": {
     "base_uri": "https://localhost:8080/"
    },
    "id": "qAhYq_xWHwJm",
    "outputId": "d6dd67b6-bd7b-48cc-941d-563d14249068"
   },
   "outputs": [
    {
     "name": "stdout",
     "output_type": "stream",
     "text": [
      "Min: 0.0, Max: 0.99609375\n",
      "Labels: {np.int64(0), np.int64(1), np.int64(2), np.int64(3), np.int64(4), np.int64(5), np.int64(6), np.int64(7), np.int64(8), np.int64(9)}\n"
     ]
    }
   ],
   "source": [
    "print(f\"Min: {X_train.min()}, Max: {X_train.max()}\")\n",
    "print(f\"Labels: {set(y_train)}\")\n"
   ]
  },
  {
   "cell_type": "markdown",
   "id": "a1245e8a-14fc-4258-aedb-156d6981c0ea",
   "metadata": {
    "id": "a1245e8a-14fc-4258-aedb-156d6981c0ea"
   },
   "source": [
    "6. Test the Model"
   ]
  },
  {
   "cell_type": "code",
   "execution_count": 8,
   "id": "73578792-f2d6-495d-8380-bbf89ca8712a",
   "metadata": {
    "colab": {
     "base_uri": "https://localhost:8080/"
    },
    "id": "73578792-f2d6-495d-8380-bbf89ca8712a",
    "outputId": "42e1661c-b9f7-4f3f-9a17-88ad4cb851d0"
   },
   "outputs": [
    {
     "name": "stdout",
     "output_type": "stream",
     "text": [
      "Test Accuracy: 99.10%\n"
     ]
    }
   ],
   "source": [
    "model.eval()\n",
    "correct = 0\n",
    "total = 0\n",
    "\n",
    "with torch.no_grad():\n",
    "    for images, labels in test_loader:\n",
    "        outputs = model(images)\n",
    "        _, predicted = torch.max(outputs, 1)\n",
    "        total += labels.size(0)\n",
    "        correct += (predicted == labels).sum().item()\n",
    "\n",
    "accuracy = 100 * correct / total\n",
    "print(f\"Test Accuracy: {accuracy:.2f}%\")\n"
   ]
  },
  {
   "cell_type": "markdown",
   "id": "0add1b9c-79e4-4e1c-a63b-ce22089012aa",
   "metadata": {
    "id": "0add1b9c-79e4-4e1c-a63b-ce22089012aa"
   },
   "source": [
    "Requirment 2:"
   ]
  },
  {
   "cell_type": "markdown",
   "id": "7f03208c-b98f-4088-87a1-5d7548ff4021",
   "metadata": {
    "id": "7f03208c-b98f-4088-87a1-5d7548ff4021"
   },
   "source": [
    "\n",
    "\n",
    "\n",
    "1. Modified CNN with Batch Normalization and Dropout"
   ]
  },
  {
   "cell_type": "code",
   "execution_count": 9,
   "id": "d88b9b52-530b-4b74-8dc8-55e101938083",
   "metadata": {
    "colab": {
     "base_uri": "https://localhost:8080/"
    },
    "id": "d88b9b52-530b-4b74-8dc8-55e101938083",
    "outputId": "c2f94ed4-1659-49c2-97c3-36faf2c6c99a"
   },
   "outputs": [
    {
     "data": {
      "text/plain": [
       "==========================================================================================\n",
       "Layer (type:depth-idx)                   Output Shape              Param #\n",
       "==========================================================================================\n",
       "ImprovedCNN                              [64, 10]                  --\n",
       "├─Conv2d: 1-1                            [64, 16, 28, 28]          160\n",
       "├─BatchNorm2d: 1-2                       [64, 16, 28, 28]          32\n",
       "├─Conv2d: 1-3                            [64, 32, 14, 14]          4,640\n",
       "├─BatchNorm2d: 1-4                       [64, 32, 14, 14]          64\n",
       "├─Conv2d: 1-5                            [64, 64, 7, 7]            18,496\n",
       "├─BatchNorm2d: 1-6                       [64, 64, 7, 7]            128\n",
       "├─Linear: 1-7                            [64, 128]                 73,856\n",
       "├─Dropout: 1-8                           [64, 128]                 --\n",
       "├─Linear: 1-9                            [64, 64]                  8,256\n",
       "├─Dropout: 1-10                          [64, 64]                  --\n",
       "├─Linear: 1-11                           [64, 10]                  650\n",
       "==========================================================================================\n",
       "Total params: 106,282\n",
       "Trainable params: 106,282\n",
       "Non-trainable params: 0\n",
       "Total mult-adds (M): 129.55\n",
       "==========================================================================================\n",
       "Input size (MB): 0.20\n",
       "Forward/backward pass size (MB): 22.58\n",
       "Params size (MB): 0.43\n",
       "Estimated Total Size (MB): 23.21\n",
       "=========================================================================================="
      ]
     },
     "execution_count": 9,
     "metadata": {},
     "output_type": "execute_result"
    }
   ],
   "source": [
    "class ImprovedCNN(nn.Module):\n",
    "    def __init__(self):\n",
    "        super(ImprovedCNN, self).__init__()\n",
    "        self.conv1 = nn.Conv2d(1, 16, kernel_size=3, padding=1)\n",
    "        self.bn1 = nn.BatchNorm2d(16)\n",
    "        self.conv2 = nn.Conv2d(16, 32, kernel_size=3, padding=1)\n",
    "        self.bn2 = nn.BatchNorm2d(32)\n",
    "        self.conv3 = nn.Conv2d(32, 64, kernel_size=3, padding=1)\n",
    "        self.bn3 = nn.BatchNorm2d(64)\n",
    "        self.dropout = nn.Dropout(0.5)\n",
    "        self.fc1 = nn.Linear(64 * 3 * 3, 128)\n",
    "        self.fc2 = nn.Linear(128, 64)\n",
    "        self.fc3 = nn.Linear(64, 10)\n",
    "\n",
    "    def forward(self, x):\n",
    "        x = nn.ReLU()(self.bn1(self.conv1(x)))\n",
    "        x = nn.MaxPool2d(2, 2)(x)\n",
    "        x = nn.ReLU()(self.bn2(self.conv2(x)))\n",
    "        x = nn.MaxPool2d(2, 2)(x)\n",
    "        x = nn.ReLU()(self.bn3(self.conv3(x)))\n",
    "        x = nn.MaxPool2d(2, 2)(x)\n",
    "        x = x.view(x.size(0), -1)\n",
    "        x = self.dropout(nn.ReLU()(self.fc1(x)))\n",
    "        x = self.dropout(nn.ReLU()(self.fc2(x)))\n",
    "        x = self.fc3(x)\n",
    "        return x\n",
    "\n",
    "improved_model = ImprovedCNN()\n",
    "\n",
    "from torchinfo import summary\n",
    "summary(improved_model, input_size=(64, 1, 28, 28))\n"
   ]
  },
  {
   "cell_type": "markdown",
   "id": "02da645f-a071-43bb-ade9-2b83d43f7241",
   "metadata": {
    "id": "02da645f-a071-43bb-ade9-2b83d43f7241"
   },
   "source": [
    "2. Train the Improved Model"
   ]
  },
  {
   "cell_type": "code",
   "execution_count": 10,
   "id": "2ee46ff8-6111-4d44-b98d-9c0808f77df0",
   "metadata": {
    "colab": {
     "base_uri": "https://localhost:8080/"
    },
    "id": "2ee46ff8-6111-4d44-b98d-9c0808f77df0",
    "outputId": "88b6ae95-949b-4462-edfa-943d1526a6f8"
   },
   "outputs": [
    {
     "name": "stdout",
     "output_type": "stream",
     "text": [
      "Epoch 1/10, Loss: 0.3974495817147329\n",
      "Epoch 2/10, Loss: 0.13301613014739225\n",
      "Epoch 3/10, Loss: 0.09566978553918612\n",
      "Epoch 4/10, Loss: 0.08463802025623648\n",
      "Epoch 5/10, Loss: 0.06838511214315411\n",
      "Epoch 6/10, Loss: 0.06271772463749403\n",
      "Epoch 7/10, Loss: 0.05530201284343775\n",
      "Epoch 8/10, Loss: 0.05123226963633569\n",
      "Epoch 9/10, Loss: 0.04718756463455782\n",
      "Epoch 10/10, Loss: 0.04252155179433558\n"
     ]
    }
   ],
   "source": [
    "loss_fn = nn.CrossEntropyLoss()\n",
    "optimizer = torch.optim.Adam(improved_model.parameters(), lr=0.001)\n",
    "\n",
    "epochs = 10\n",
    "for epoch in range(epochs):\n",
    "    improved_model.train()\n",
    "    running_loss = 0.0\n",
    "    for images, labels in train_loader:\n",
    "        optimizer.zero_grad()\n",
    "        outputs = improved_model(images)\n",
    "        loss = loss_fn(outputs, labels)\n",
    "        loss.backward()\n",
    "        optimizer.step()\n",
    "        running_loss += loss.item()\n",
    "    print(f\"Epoch {epoch+1}/{epochs}, Loss: {running_loss/len(train_loader)}\")\n"
   ]
  },
  {
   "cell_type": "markdown",
   "id": "52e78700-10d1-459d-8975-c00f22a3ef0d",
   "metadata": {
    "id": "52e78700-10d1-459d-8975-c00f22a3ef0d"
   },
   "source": [
    "3. Test the Improved Model"
   ]
  },
  {
   "cell_type": "code",
   "execution_count": 11,
   "id": "32b7495a-ae16-4f73-a4fd-8e82828d5261",
   "metadata": {
    "colab": {
     "base_uri": "https://localhost:8080/"
    },
    "id": "32b7495a-ae16-4f73-a4fd-8e82828d5261",
    "outputId": "0683f33f-a1d4-47eb-c748-05065d9fdfda"
   },
   "outputs": [
    {
     "name": "stdout",
     "output_type": "stream",
     "text": [
      "Improved Test Accuracy: 99.14%\n"
     ]
    }
   ],
   "source": [
    "improved_model.eval()\n",
    "correct = 0\n",
    "total = 0\n",
    "\n",
    "with torch.no_grad():\n",
    "    for images, labels in test_loader:\n",
    "        outputs = improved_model(images)\n",
    "        _, predicted = torch.max(outputs, 1)\n",
    "        total += labels.size(0)\n",
    "        correct += (predicted == labels).sum().item()\n",
    "\n",
    "improved_accuracy = 100 * correct / total\n",
    "print(f\"Improved Test Accuracy: {improved_accuracy:.2f}%\")\n"
   ]
  },
  {
   "cell_type": "markdown",
   "id": "f68f022b-23e9-4c34-ad3a-af0e361f4f1d",
   "metadata": {
    "id": "f68f022b-23e9-4c34-ad3a-af0e361f4f1d"
   },
   "source": [
    "Requirment 3:"
   ]
  },
  {
   "cell_type": "code",
   "execution_count": 12,
   "id": "4526d7ba-b0f5-42c1-aea9-c778042fc8fd",
   "metadata": {
    "colab": {
     "base_uri": "https://localhost:8080/",
     "height": 287
    },
    "id": "4526d7ba-b0f5-42c1-aea9-c778042fc8fd",
    "outputId": "c60fcef5-9187-49f5-ee10-432259927d80"
   },
   "outputs": [
    {
     "data": {
      "image/png": "[encoded data removed]",
      "text/plain": [
       "<Figure size 1000x500 with 3 Axes>"
      ]
     },
     "metadata": {},
     "output_type": "display_data"
    }
   ],
   "source": [
    "import torch\n",
    "import numpy as np\n",
    "import matplotlib.pyplot as plt\n",
    "import cv2\n",
    "\n",
    "class GradCAM:\n",
    "    def __init__(self, model, target_layer):\n",
    "        self.model = model\n",
    "        self.target_layer = target_layer\n",
    "        self.gradients = None\n",
    "        self.activations = None\n",
    "\n",
    "        # Register hooks\n",
    "        self.target_layer.register_forward_hook(self.save_activations)\n",
    "\n",
    "    def save_activations(self, module, input, output):\n",
    "        \"\"\"Save the activations and register a hook on the output to capture gradients.\"\"\"\n",
    "        self.activations = output\n",
    "        output.register_hook(self.save_gradients)  # Attach hook to the output tensor\n",
    "\n",
    "    def save_gradients(self, grad):\n",
    "        \"\"\"Save the gradients from the backward pass.\"\"\"\n",
    "        self.gradients = grad\n",
    "\n",
    "    def generate_heatmap(self, input_tensor, target_class):\n",
    "        # Forward pass\n",
    "        output = self.model(input_tensor)\n",
    "        self.model.zero_grad()\n",
    "\n",
    "        # Backward pass for the target class\n",
    "        target = output[0, target_class]\n",
    "        target.backward()\n",
    "\n",
    "        # Compute Grad-CAM\n",
    "        weights = torch.nn.functional.adaptive_avg_pool2d(self.gradients, (1, 1)).squeeze()\n",
    "        activations = self.activations.squeeze()\n",
    "\n",
    "        heatmap = torch.zeros(activations.shape[1:], dtype=torch.float32)\n",
    "        for i, w in enumerate(weights):\n",
    "            heatmap += w * activations[i]\n",
    "\n",
    "        heatmap = torch.relu(heatmap).detach().numpy()\n",
    "        heatmap = cv2.resize(heatmap, (28, 28))\n",
    "        heatmap /= np.max(heatmap)  # Normalize to [0, 1]\n",
    "        return heatmap\n",
    "\n",
    "\n",
    "# Select a test image\n",
    "test_image = X_test_tensor[0:1]\n",
    "test_label = y_test_tensor[1].item()\n",
    "\n",
    "# Define target layer (last convolutional layer)\n",
    "target_layer = improved_model.conv3\n",
    "grad_cam = GradCAM(improved_model, target_layer)\n",
    "\n",
    "# Set model to evaluation mode\n",
    "improved_model.eval()\n",
    "\n",
    "# Generate heatmap\n",
    "heatmap = grad_cam.generate_heatmap(test_image, target_class=test_label)\n",
    "\n",
    "# Extract original image\n",
    "original_image = test_image[0, 0].detach().numpy()\n",
    "\n",
    "# Resize heatmap to match input dimensions\n",
    "heatmap_resized = (heatmap * 255).astype(np.uint8)\n",
    "heatmap_colored = cv2.applyColorMap(heatmap_resized, cv2.COLORMAP_JET)\n",
    "\n",
    "# Convert grayscale image to 3 channels\n",
    "original_image_rescaled = (original_image * 255).astype(np.uint8)\n",
    "original_image_3channel = cv2.cvtColor(original_image_rescaled, cv2.COLOR_GRAY2BGR)\n",
    "\n",
    "# Blend heatmap and original image\n",
    "overlay = cv2.addWeighted(original_image_3channel, 0.6, heatmap_colored, 0.4, 0)\n",
    "\n",
    "# Plotting\n",
    "plt.figure(figsize=(10, 5))\n",
    "plt.subplot(1, 3, 1)\n",
    "plt.title(\"Original Image\")\n",
    "plt.imshow(original_image, cmap='gray')\n",
    "plt.axis('off')\n",
    "\n",
    "plt.subplot(1, 3, 2)\n",
    "plt.title(\"Grad-CAM Heatmap\")\n",
    "plt.imshow(heatmap_resized, cmap='jet')\n",
    "plt.axis('off')\n",
    "\n",
    "plt.subplot(1, 3, 3)\n",
    "plt.title(\"Overlay\")\n",
    "plt.imshow(cv2.cvtColor(overlay, cv2.COLOR_BGR2RGB))  # Convert BGR to RGB for matplotlib\n",
    "plt.axis('off')\n",
    "\n",
    "plt.show()\n"
   ]
  }
 ],
 "metadata": {
  "colab": {
   "provenance": []
  },
  "kernelspec": {
   "display_name": "Python 3 (ipykernel)",
   "language": "python",
   "name": "python3"
  },
  "language_info": {
   "codemirror_mode": {
    "name": "ipython",
    "version": 3
   },
   "file_extension": ".py",
   "mimetype": "text/x-python",
   "name": "python",
   "nbconvert_exporter": "python",
   "pygments_lexer": "ipython3",
   "version": "3.9.21"
  }
 },
 "nbformat": 4,
 "nbformat_minor": 5
}
